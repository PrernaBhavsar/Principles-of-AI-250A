{
  "nbformat": 4,
  "nbformat_minor": 0,
  "metadata": {
    "colab": {
      "name": "HW1_Hangman.ipynb",
      "provenance": []
    },
    "kernelspec": {
      "name": "python3",
      "display_name": "Python 3"
    },
    "language_info": {
      "name": "python"
    }
  },
  "cells": [
    {
      "cell_type": "code",
      "metadata": {
        "colab": {
          "base_uri": "https://localhost:8080/"
        },
        "id": "GQOUIcIpFfcs",
        "outputId": "04428fa4-9236-4bcb-ea96-3909f517313d"
      },
      "source": [
        "%cd '/content/drive/MyDrive/CSE250A/HW1'"
      ],
      "execution_count": 105,
      "outputs": [
        {
          "output_type": "stream",
          "name": "stdout",
          "text": [
            "/content/drive/MyDrive/CSE250A/HW1\n"
          ]
        }
      ]
    },
    {
      "cell_type": "code",
      "metadata": {
        "id": "xtzVaURGGNTd"
      },
      "source": [
        "def processing(file):\n",
        "    \n",
        "    word_count = {}\n",
        "    f = open(file,'r')\n",
        "    \n",
        "    for line in f:\n",
        "        line = line.split(\" \")\n",
        "        word_count[line[0]] = int(line[1])\n",
        "    return word_count"
      ],
      "execution_count": 106,
      "outputs": []
    },
    {
      "cell_type": "code",
      "metadata": {
        "id": "wA4BwSfeGQUh"
      },
      "source": [
        "def priorProbability(word_dict):\n",
        "    word_prob = {}\n",
        "    total  = sum(list(word_dict.values()))\n",
        "    for key, value in word_dict.items():\n",
        "        word_prob[key] = value / total\n",
        "    \n",
        "    return word_prob"
      ],
      "execution_count": 107,
      "outputs": []
    },
    {
      "cell_type": "code",
      "metadata": {
        "id": "1eLSUHoHGSwL"
      },
      "source": [
        "#initial word count      \n",
        "word_count = processing(\"hw1_word_counts_05.txt\")\n",
        "#initial word probabilities\n",
        "word_prob = priorProbability(word_count)"
      ],
      "execution_count": 108,
      "outputs": []
    },
    {
      "cell_type": "code",
      "metadata": {
        "colab": {
          "base_uri": "https://localhost:8080/"
        },
        "id": "bNAzWijmGVkP",
        "outputId": "0a376abf-55ae-4f4e-fff0-5ba5c54c143a"
      },
      "source": [
        "sorted_word_probabilities = sorted(word_prob.items(), key = lambda x: x[1], reverse = True)\n",
        "\n",
        "\n",
        "print(\"Top 15 most frequent words:\")\n",
        "for i in range(15):\n",
        "    print(sorted_word_probabilities[i][0])\n",
        "\n",
        "\n",
        "print(\"14 least frequent words:\")\n",
        "for i in range(-1, -15, -1):\n",
        "    print(sorted_word_probabilities[i][0])"
      ],
      "execution_count": 109,
      "outputs": [
        {
          "output_type": "stream",
          "name": "stdout",
          "text": [
            "Top 15 most frequent words:\n",
            "THREE\n",
            "SEVEN\n",
            "EIGHT\n",
            "WOULD\n",
            "ABOUT\n",
            "THEIR\n",
            "WHICH\n",
            "AFTER\n",
            "FIRST\n",
            "FIFTY\n",
            "OTHER\n",
            "FORTY\n",
            "YEARS\n",
            "THERE\n",
            "SIXTY\n",
            "14 least frequent words:\n",
            "TROUP\n",
            "OTTIS\n",
            "MAPCO\n",
            "CAIXA\n",
            "BOSAK\n",
            "YALOM\n",
            "TOCOR\n",
            "SERNA\n",
            "PAXON\n",
            "NIAID\n",
            "FOAMY\n",
            "FABRI\n",
            "CLEFT\n",
            "CCAIR\n"
          ]
        }
      ]
    },
    {
      "cell_type": "code",
      "metadata": {
        "id": "hg4eAqGua8nd"
      },
      "source": [
        "def calcPosteriorProbs(possible_words, total):\n",
        "  posterior_prob = {}\n",
        "  for word, value in possible_words.items():\n",
        "    posterior_prob[word] =  value/total\n",
        "  return posterior_prob"
      ],
      "execution_count": 110,
      "outputs": []
    },
    {
      "cell_type": "code",
      "metadata": {
        "id": "TPB8gsBwp1YG"
      },
      "source": [
        "def getPossibleLetters(possible_words, correct_guess, wrong_guess):\n",
        "  possible_letters = set()\n",
        "  for word in possible_words.keys():\n",
        "    l = list(map(str, word))\n",
        "    possible_letters.update(l)\n",
        "  correct_letters = [l for l, v in correct_guess.items()]\n",
        "  possible_letters = possible_letters - set(wrong_guess) - set(correct_letters)\n",
        "  return possible_letters"
      ],
      "execution_count": 169,
      "outputs": []
    },
    {
      "cell_type": "code",
      "metadata": {
        "id": "dsA0NN74fjDD"
      },
      "source": [
        "def calcLetterProb(letters, posterior_probs):\n",
        "  letter_predictive_prob ={}\n",
        "  next_guess, val = None, 0\n",
        "\n",
        "  for letter in letters:\n",
        "    letter_predictive_prob[letter] = 0\n",
        "    for word, value in posterior_probs.items():\n",
        "      if letter in word:\n",
        "        letter_predictive_prob[letter] += value\n",
        "    if letter_predictive_prob[letter] > val:\n",
        "      next_guess = letter\n",
        "      val = letter_predictive_prob[letter]\n",
        "  \n",
        "  return letter_predictive_prob, next_guess, val"
      ],
      "execution_count": 112,
      "outputs": []
    },
    {
      "cell_type": "code",
      "metadata": {
        "id": "1nJsLZAyARwr"
      },
      "source": [
        "def getPossibleWords(word_probs, correct_guess, wrong_guess):\n",
        "  possible_words = {}\n",
        "  total = 0\n",
        "  for word,prob in word_probs.items():\n",
        "    sub = {}\n",
        "    flag = 0\n",
        "    for letter in wrong_guess:\n",
        "      if letter in word:\n",
        "        flag = 1\n",
        "        break\n",
        "    if flag:\n",
        "      continue\n",
        "    \n",
        "    for i,ch in enumerate(word):\n",
        "      sub[ch] = sub.get(ch,[]) + [i]\n",
        "    for letter, value in correct_guess.items():\n",
        "      if letter not in word:\n",
        "        flag = 1\n",
        "        break\n",
        "      else:\n",
        "        if sub[letter] != value:\n",
        "          flag = 1\n",
        "          break\n",
        "    if flag:\n",
        "      continue\n",
        "    possible_words[word] = prob\n",
        "    total += prob\n",
        "  return possible_words, total\n"
      ],
      "execution_count": 171,
      "outputs": []
    },
    {
      "cell_type": "code",
      "metadata": {
        "id": "PCA-I0feWtk-"
      },
      "source": [
        "def predictNextLetter(word_count, word_prob, correct_guess, wrong_guess):\n",
        "  \n",
        "  possible_words, total_poss_prob  = getPossibleWords(word_prob, correct_guess, wrong_guess)\n",
        "  \n",
        "  word_posterior_prob = calcPosteriorProbs(possible_words, total_poss_prob)\n",
        "  possible_letters = getPossibleLetters(possible_words, correct_guess, wrong_guess)\n",
        "  letter_probs, next_guess, val = calcLetterProb(possible_letters, word_posterior_prob)\n",
        "\n",
        "  return (next_guess, val)"
      ],
      "execution_count": 184,
      "outputs": []
    },
    {
      "cell_type": "code",
      "metadata": {
        "colab": {
          "base_uri": "https://localhost:8080/"
        },
        "id": "Y_LPIelfSvfy",
        "outputId": "3edff7f9-448a-4040-c762-2618dc745125"
      },
      "source": [
        "samples = []\n",
        "correct = []\n",
        "wrong = []\n",
        "\n",
        "for i in range(9):\n",
        "  word = input(\"Enter correctly guessed:\")\n",
        "  samples.append(word)\n",
        "  w_guess = input(\"Enter incorrectly guessed:\")\n",
        "  word_w = w_guess.split(',')\n",
        "  if word_w[0] =='':\n",
        "    wrong.append([])\n",
        "  else:\n",
        "    wrong.append(word_w)"
      ],
      "execution_count": 174,
      "outputs": [
        {
          "name": "stdout",
          "output_type": "stream",
          "text": [
            "Enter correctly guessed:-----\n",
            "Enter incorrectly guessed:\n",
            "Enter correctly guessed:-----\n",
            "Enter incorrectly guessed:E,A\n",
            "Enter correctly guessed:A---S\n",
            "Enter incorrectly guessed:\n",
            "Enter correctly guessed:A---S\n",
            "Enter incorrectly guessed:I\n",
            "Enter correctly guessed:--O--\n",
            "Enter incorrectly guessed:A,E,M,N,T\n",
            "Enter correctly guessed:-----\n",
            "Enter incorrectly guessed:E,O\n",
            "Enter correctly guessed:D--I-\n",
            "Enter incorrectly guessed:\n",
            "Enter correctly guessed:D--I-\n",
            "Enter incorrectly guessed:A\n",
            "Enter correctly guessed:-U---\n",
            "Enter incorrectly guessed:A,E,I,O,S\n"
          ]
        }
      ]
    },
    {
      "cell_type": "code",
      "metadata": {
        "colab": {
          "base_uri": "https://localhost:8080/"
        },
        "id": "6sr7zHNQWEYo",
        "outputId": "f501655e-2178-41f5-8f86-66dc4edec997"
      },
      "source": [
        "print(samples)\n",
        "print(wrong)"
      ],
      "execution_count": 175,
      "outputs": [
        {
          "output_type": "stream",
          "name": "stdout",
          "text": [
            "['-----', '-----', 'A---S', 'A---S', '--O--', '-----', 'D--I-', 'D--I-', '-U---']\n",
            "[[], ['E', 'A'], [], ['I'], ['A', 'E', 'M', 'N', 'T'], ['E', 'O'], [], ['A'], ['A', 'E', 'I', 'O', 'S']]\n"
          ]
        }
      ]
    },
    {
      "cell_type": "code",
      "metadata": {
        "colab": {
          "base_uri": "https://localhost:8080/"
        },
        "id": "PVCfXA3sUWB4",
        "outputId": "76c577e3-dca0-48db-c349-1d2be01e7960"
      },
      "source": [
        "for word in samples:\n",
        "  s = {}\n",
        "  for i,ch in enumerate(word):\n",
        "    if ch != '-':\n",
        "      s[ch] = s.get(ch,[])+[i]\n",
        "  correct.append(s)\n",
        "print(correct)"
      ],
      "execution_count": 206,
      "outputs": [
        {
          "output_type": "stream",
          "name": "stdout",
          "text": [
            "[{}, {}, {'A': [0], 'S': [4]}, {'A': [0], 'S': [4]}, {'O': [2]}, {}, {'D': [0], 'I': [3]}, {'D': [0], 'I': [3]}, {'U': [1]}, {}, {}, {'A': [0], 'S': [4]}, {'A': [0], 'S': [4]}, {'O': [2]}, {}, {'D': [0], 'I': [3]}, {'D': [0], 'I': [3]}, {'U': [1]}]\n"
          ]
        }
      ]
    },
    {
      "cell_type": "code",
      "metadata": {
        "colab": {
          "base_uri": "https://localhost:8080/"
        },
        "id": "GAlMo7kMU1Je",
        "outputId": "77709dbe-6806-4c08-a7c8-7b593ef92f64"
      },
      "source": [
        "print('correctly guessed\\tincorrectly guessed\\t\\tbest next guess\\t\\t\\tProbability')\n",
        "for i in range(9):\n",
        "  next_guess, next_prob = predictNextLetter(word_count, word_prob, correct[i], wrong[i])\n",
        "  print('{:30s}{:30s}{:30s}{:4.4f}'.format(samples[i],' '.join(wrong[i]), next_guess, next_prob))"
      ],
      "execution_count": 205,
      "outputs": [
        {
          "output_type": "stream",
          "name": "stdout",
          "text": [
            "correctly guessed\tincorrectly guessed\t\tbest next guess\t\t\tProbability\n",
            "-----                                                       E                             0.5394\n",
            "-----                         E A                           O                             0.5340\n",
            "A---S                                                       E                             0.7715\n",
            "A---S                         I                             E                             0.7127\n",
            "--O--                         A E M N T                     R                             0.7454\n",
            "-----                         E O                           I                             0.6366\n",
            "D--I-                                                       A                             0.8207\n",
            "D--I-                         A                             E                             0.7521\n",
            "-U---                         A E I O S                     Y                             0.6270\n"
          ]
        }
      ]
    }
  ]
}